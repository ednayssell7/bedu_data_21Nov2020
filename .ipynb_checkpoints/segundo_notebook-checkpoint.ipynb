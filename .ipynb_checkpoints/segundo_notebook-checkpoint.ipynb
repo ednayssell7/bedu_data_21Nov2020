{
 "cells": [
  {
   "cell_type": "code",
   "execution_count": 5,
   "metadata": {},
   "outputs": [
    {
     "name": "stdout",
     "output_type": "stream",
     "text": [
      "2291.0\n",
      "2117.0\n",
      "319.0\n",
      "1740.0\n",
      "986.0\n",
      "783.0\n",
      "1363.0\n",
      "1856.0\n",
      "2523.0\n",
      "2523.0\n",
      "725.0\n",
      "1334.0\n",
      "1363.0\n",
      "406.0\n",
      "1305.0\n",
      "1450.0\n",
      "2175.0\n",
      "1479.0\n",
      "957.0\n",
      "1827.0\n",
      "348.0\n",
      "1479.0\n",
      "1015.0\n",
      "1914.0\n",
      "1015.0\n"
     ]
    }
   ],
   "source": [
    "precio_en_menu = [1975, 1825, 275, 1500, 850, 675, 1175, 1600, 2175, 2175, 625, 1150, 1175, 350, 1125, 1250, 1875, 1275, 825, 1575, 300, 1275, 875, 1650, 875]\n",
    "for x in precio_en_menu:\n",
    "    iva = x + (x * 0.16)\n",
    "    print(iva)"
   ]
  },
  {
   "cell_type": "code",
   "execution_count": null,
   "metadata": {},
   "outputs": [],
   "source": []
  },
  {
   "cell_type": "code",
   "execution_count": null,
   "metadata": {},
   "outputs": [],
   "source": []
  }
 ],
 "metadata": {
  "kernelspec": {
   "display_name": "Python 3",
   "language": "python",
   "name": "python3"
  },
  "language_info": {
   "codemirror_mode": {
    "name": "ipython",
    "version": 3
   },
   "file_extension": ".py",
   "mimetype": "text/x-python",
   "name": "python",
   "nbconvert_exporter": "python",
   "pygments_lexer": "ipython3",
   "version": "3.8.6"
  }
 },
 "nbformat": 4,
 "nbformat_minor": 4
}
